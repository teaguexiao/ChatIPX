{
 "cells": [
  {
   "cell_type": "code",
   "execution_count": null,
   "id": "0e995673-bfdc-4416-a6c8-e3cda262d1f2",
   "metadata": {
    "scrolled": true,
    "tags": []
   },
   "outputs": [],
   "source": [
    "!pip install langchain\n",
    "!pip install openai"
   ]
  },
  {
   "cell_type": "code",
   "execution_count": null,
   "id": "e255fd8c-0886-4e69-a1b9-2f81a2428eca",
   "metadata": {
    "tags": []
   },
   "outputs": [],
   "source": [
    "%env SERPAPI_API_KEY=xxx\n",
    "%env OPENAI_API_KEY=xxxxxx"
   ]
  },
  {
   "cell_type": "markdown",
   "id": "90e1cb0c-1424-4d33-a840-4517fec7ef0b",
   "metadata": {},
   "source": [
    "## Conversational Retrieval QA"
   ]
  },
  {
   "cell_type": "code",
   "execution_count": null,
   "id": "8dcfca73-2120-4b01-ae23-59b3e97edd4f",
   "metadata": {
    "tags": []
   },
   "outputs": [],
   "source": [
    "!pip install faiss-cpu"
   ]
  },
  {
   "cell_type": "markdown",
   "id": "52509682-6566-40ad-b20a-5978f9de1dbf",
   "metadata": {},
   "source": [
    "### 文档资料\n",
    "- 安牌官网（https://www.anpaitm.com/）\n",
    "- 中华人民共和国商标法（https://www.wipo.int/wipolex/zh/text/547083）"
   ]
  },
  {
   "cell_type": "code",
   "execution_count": null,
   "id": "5869f3d2-d5fd-4cbe-a3ad-130b6f44950a",
   "metadata": {
    "tags": []
   },
   "outputs": [],
   "source": [
    "#for FAISS\n",
    "from langchain.embeddings.openai import OpenAIEmbeddings\n",
    "from langchain.text_splitter import CharacterTextSplitter\n",
    "from langchain.vectorstores import FAISS\n",
    "from langchain.document_loaders import TextLoader\n"
   ]
  },
  {
   "cell_type": "code",
   "execution_count": null,
   "id": "36b29167-a2fb-4566-b0df-3fccbaf8c3b8",
   "metadata": {
    "tags": []
   },
   "outputs": [],
   "source": [
    "#For FAISS\n",
    "from langchain.document_loaders import WebBaseLoader\n",
    "\n",
    "loader = WebBaseLoader(\"https://www.anpaitm.com/\")\n",
    "documents = loader.load()\n",
    "text_splitter = CharacterTextSplitter(chunk_size=1000, chunk_overlap=0)\n",
    "docs = text_splitter.split_documents(documents)\n",
    "\n",
    "embeddings = OpenAIEmbeddings()\n",
    "vectorstore = FAISS.from_documents(docs, embeddings)"
   ]
  },
  {
   "cell_type": "code",
   "execution_count": null,
   "id": "40b9347c-0917-4761-8cee-c522e5d21252",
   "metadata": {
    "tags": []
   },
   "outputs": [],
   "source": [
    "from langchain.memory import ConversationBufferMemory\n",
    "memory = ConversationBufferMemory(memory_key=\"chat_history\", return_messages=True)"
   ]
  },
  {
   "cell_type": "code",
   "execution_count": null,
   "id": "c8462630-e4bc-414b-954b-261c34e60194",
   "metadata": {
    "tags": []
   },
   "outputs": [],
   "source": [
    "#\"我想让你担任安牌公司的商标顾问，你的名字叫做'媛姐助理'。我将描述商标相关的问题，您将提供有关如何处理的建议。除了商标相关的问题之外，你可以不回答其他的问题。安牌网的介绍：安牌，平台以大数据为基础、AI技术为驱动、智能产品为核心、专业服务为支撑，为企业提供从商标到品牌一站式的智慧化服务。推动大数据、人工智能技术在知识产权领域的深度应用，为企业商标到品牌保驾护航\"\n",
    "from langchain import PromptTemplate\n",
    "\n",
    "# note that the input variables ('question', etc) are defaults, and can be changed\n",
    "\n",
    "_template = \"\"\"I want you to act as my brand advisor '媛姐AI'. I will describe a brand situation and you will provide advice on how to handle it. You should only reply with your advice, and nothing else. Do not write explanations.\n",
    "Given the following conversation and a follow up question, rephrase the follow up question to be a standalone question, in its original language.\n",
    "\n",
    "Chat History:\n",
    "{chat_history}\n",
    "Follow Up Input: {question}\n",
    "Standalone question:\"\"\"\n",
    "\n",
    "condense_prompt = PromptTemplate.from_template(_template)\n",
    "\n",
    "prompt_template = \"\"\"I want you to act as my brand advisor '媛姐AI'. I will describe a brand situation and you will provide advice on how to handle it. You should only reply with your advice, and nothing else. Do not write explanations.\n",
    "Use the following pieces of context to answer the question at the end. If you don't know the answer, just say that you don't know, don't try to make up an answer.\n",
    "\n",
    "{context}\n",
    "\n",
    "Question: {question}\n",
    "Helpful Answer:\"\"\"\n",
    "\n",
    "combine_docs_custom_prompt = PromptTemplate.from_template(prompt_template)\n",
    "\n",
    "qa = ConversationalRetrievalChain.from_llm(\n",
    "    OpenAI(temperature=0), \n",
    "    vectorstore.as_retriever(), # see below for vectorstore definition\n",
    "    memory=memory,\n",
    "    condense_question_prompt=condense_prompt,\n",
    "    combine_docs_chain_kwargs=dict(prompt=combine_docs_custom_prompt),\n",
    "    verbose=True\n",
    ")"
   ]
  },
  {
   "cell_type": "code",
   "execution_count": null,
   "id": "390f68ae-89fd-496b-a622-23ba597ec063",
   "metadata": {
    "scrolled": true,
    "tags": []
   },
   "outputs": [],
   "source": [
    "query = \"我想咨询一下，如果我要申请一个耐克的商标，需要走什么流程？\"\n",
    "result = qa({\"question\": query})\n",
    "\n",
    "result[\"answer\"]"
   ]
  },
  {
   "cell_type": "code",
   "execution_count": null,
   "id": "a98eabcb-e1b8-43c0-994a-139c55b47cb0",
   "metadata": {
    "tags": []
   },
   "outputs": [],
   "source": []
  },
  {
   "cell_type": "code",
   "execution_count": null,
   "id": "ce7bc36b-8d03-4f40-87ed-9ec3d910770a",
   "metadata": {},
   "outputs": [],
   "source": []
  }
 ],
 "metadata": {
  "kernelspec": {
   "display_name": "conda_tensorflow2_p310",
   "language": "python",
   "name": "conda_tensorflow2_p310"
  },
  "language_info": {
   "codemirror_mode": {
    "name": "ipython",
    "version": 3
   },
   "file_extension": ".py",
   "mimetype": "text/x-python",
   "name": "python",
   "nbconvert_exporter": "python",
   "pygments_lexer": "ipython3",
   "version": "3.10.8"
  }
 },
 "nbformat": 4,
 "nbformat_minor": 5
}
